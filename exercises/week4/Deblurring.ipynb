{
 "cells": [
  {
   "cell_type": "code",
   "execution_count": null,
   "id": "a4a6e996",
   "metadata": {
    "deletable": false,
    "editable": false
   },
   "outputs": [],
   "source": [
    "# Initialize Otter\n",
    "import otter\n",
    "grader = otter.Notebook(\"Deblurring.ipynb\")"
   ]
  },
  {
   "cell_type": "markdown",
   "id": "b8b107c5-c56c-4e5f-8cee-b970f8e10f8f",
   "metadata": {},
   "source": [
    "# Matrix Analysis 2023 - EE312\n",
    "\n",
    "## Week 4 - Image deblurring using right inverse\n",
    "[LTS2](https://lts2.epfl.ch)\n",
    "\n",
    "### Objectives\n",
    "In this week's exercises you will need to use the properties of the four fundamental subspaces, as well as the left and right inverse of a matrix. The right inverse will be applied in an example to recover an image that has been degraded by a blurring operator.\n",
    "\n",
    "\n",
    "## I. Exercises"
   ]
  },
  {
   "cell_type": "markdown",
   "id": "5504f856-3edd-436f-b14f-4e660a7faf7c",
   "metadata": {
    "deletable": false,
    "editable": false
   },
   "source": [
    "<!-- BEGIN QUESTION -->\n",
    "\n",
    "### 1.\n",
    "Let $A \\in \\mathbb{R}^{m \\times n}$ and suppose it has a left-inverse. Prove that $A^T$ has a right-inverse."
   ]
  },
  {
   "cell_type": "markdown",
   "id": "99a45487",
   "metadata": {},
   "source": [
    "_Type your answer here, replacing this text._"
   ]
  },
  {
   "cell_type": "markdown",
   "id": "3acf015e-a0ae-48a6-925f-7ef5e5b18c01",
   "metadata": {
    "deletable": false,
    "editable": false
   },
   "source": [
    "<!-- END QUESTION -->\n",
    "\n",
    "<!-- BEGIN QUESTION -->\n",
    "\n",
    "### 2.\n",
    "Let $A=\\begin{pmatrix}1 & 1 & 1 &0\\\\1 & 2 & 2 & 1\\\\2 & 5 & 5 & 3\\end{pmatrix}$\n",
    "\n",
    "Compute a basis for each of its four fundamental subspaces."
   ]
  },
  {
   "cell_type": "markdown",
   "id": "7fa2fcf6",
   "metadata": {},
   "source": [
    "_Type your answer here, replacing this text._"
   ]
  },
  {
   "cell_type": "markdown",
   "id": "44bf7882-513e-4c29-9619-96bd357670b0",
   "metadata": {
    "deletable": false,
    "editable": false
   },
   "source": [
    "<!-- END QUESTION -->\n",
    "\n",
    "## II. Image deblurring \n",
    "### Introduction\n",
    "Since we will need to visualize images, just a brief reminder on how to use matplotlib for this task"
   ]
  },
  {
   "cell_type": "code",
   "execution_count": null,
   "id": "a05d6e95-711e-41ce-bf8a-5b983d8999fd",
   "metadata": {
    "tags": []
   },
   "outputs": [],
   "source": [
    "import numpy as np\n",
    "import matplotlib.pyplot as plt\n",
    "import skimage\n",
    "import skimage.io\n",
    "import os"
   ]
  },
  {
   "cell_type": "markdown",
   "id": "f387c338-7c82-46cf-9950-def341903021",
   "metadata": {},
   "source": [
    "We will use the `imread` function from the `scikit-image` package (pre-installed on noto, make sure to install it if you are using a local environment)"
   ]
  },
  {
   "cell_type": "code",
   "execution_count": null,
   "id": "97017b6f-fc95-4d94-b1f6-f7da6621444f",
   "metadata": {
    "tags": []
   },
   "outputs": [],
   "source": [
    "filename = os.path.join(skimage.data_dir, 'camera.png')\n",
    "camera = skimage.io.imread(filename)"
   ]
  },
  {
   "cell_type": "markdown",
   "id": "6b4b81f7-6867-43b7-9fd5-9478d421db86",
   "metadata": {},
   "source": [
    "Some basic information regarding the contents of `camera`:"
   ]
  },
  {
   "cell_type": "code",
   "execution_count": null,
   "id": "03e539bd-2d68-4240-9d72-ee4ef02b9081",
   "metadata": {
    "tags": []
   },
   "outputs": [],
   "source": [
    "camera.shape"
   ]
  },
  {
   "cell_type": "code",
   "execution_count": null,
   "id": "3b723f81-ebf9-45e5-83a9-6e3d7048586b",
   "metadata": {
    "tags": []
   },
   "outputs": [],
   "source": [
    "camera.dtype"
   ]
  },
  {
   "cell_type": "markdown",
   "id": "f2c5f73f-bfee-47e7-b68d-d364f6478663",
   "metadata": {},
   "source": [
    "The type `uint8` means each value in `camera` is represented using a single byte, and is within $[0, 255]$.\n",
    "\n",
    "Displaying the image is fairly straightforward :"
   ]
  },
  {
   "cell_type": "code",
   "execution_count": null,
   "id": "04ce2927-48e4-41d6-961f-f1a5f0791cc3",
   "metadata": {
    "tags": []
   },
   "outputs": [],
   "source": [
    "plt.imshow(camera, cmap='gray')"
   ]
  },
  {
   "cell_type": "markdown",
   "id": "18174a60-7b66-4ccf-a5f4-43ec56299c0e",
   "metadata": {},
   "source": [
    "The image here is widely used in many image processing scientific publications.\n",
    "\n",
    "The `cmap` parameter specifies the colormap used to display the image. Matplotlib default colormap not being grayscale, passing `cmap='gray'` is needed. You can find [several predefined colormaps](https://matplotlib.org/stable/tutorials/colors/colormaps.html) in Matplotlib. \n",
    "\n",
    "You can also check the images distributed with `scikit-image` on their [github repository](https://github.com/scikit-image/scikit-image/tree/main/skimage/data). Feel free to use another image, or even one of your own."
   ]
  },
  {
   "cell_type": "markdown",
   "id": "30dbc6b0-be1f-43b6-a575-ffdedac904b8",
   "metadata": {},
   "source": [
    "## 1. Blurring operator\n",
    "\n",
    "In order to efficiently deblur an image, let us design our own blurring operator. Since it will be entirely known, it will be possible to compute its inverse.\n",
    "\n",
    "Let us consider an input vector $x=\\begin{pmatrix}x_0 \\\\ x_1 \\\\ ... \\\\ x_{N-1}\\end{pmatrix} \\in \\mathbb{R}^N$. \n",
    "\n",
    "Our blurring operator $B$ will do two things:\n",
    "- replace each value $x_k$ by the average of $2p+1$ values surrounding $x_k$, i.e. between $x_{k-p}$ and $x_{k+p}$.\n",
    "- compute this average not for every $x_k$ but only every $s$ values, with $s$ being a subsampling factor, $s>0$.\n",
    "\n",
    "Formally, if we denote by $y$ the output of the blurring operator on $x$, this means that\n",
    "- $y\\in\\mathbb{R}^M$, with $M=\\frac{N}{s}$ (NOTE: we will only consider the case where $N$ is a mutiple of $s$)\n",
    "- $y_m = \\frac{1}{2p+1}\\sum_{k=sm-p}^{sm+p}x_k$\n",
    "\n",
    "As you may have noticed, our summation indices in the definition of $y_m$ can be negative in some cases and bigger than $N-1$ in others. In those cases the missing value of $x_k$ is replaced by 0. This way of handling borders is often referred to as **zero-padding**, as it can be achieved by creating an extended version of $x$ with a number of leading and trailing zeros. There are other ways of handling borders, e.g. by using $x_0$ for negative indices and $x_{N-1}$ for indices greater than $N-1$, or even by mirroring the input vector."
   ]
  },
  {
   "cell_type": "markdown",
   "id": "63fecde4-7ee7-4692-b21e-dfc33e4a4de7",
   "metadata": {
    "deletable": false,
    "editable": false
   },
   "source": [
    "1. Write a function that creates the matrix $B$ that performs the operations described above.\n",
    "\n",
    "Remember that in python the `//` operator performs the integer division.\n",
    "\n",
    "**!!Warning!!** the automated tests are here to help you, they might however be incomplete and do not fully guarantee that your implementation is correct even if they all pass !"
   ]
  },
  {
   "cell_type": "code",
   "execution_count": null,
   "id": "e40d4cba-1187-448d-96fb-d0033c129aaf",
   "metadata": {
    "tags": []
   },
   "outputs": [],
   "source": [
    "def blur_matrix(N, p, s):\n",
    "    \"\"\"\n",
    "    Computes the blurring matrix \n",
    "\n",
    "    Parameters\n",
    "    ----------\n",
    "    N : length of the input signal\n",
    "    p : half-length of the blurring filter\n",
    "    s: subsampling factor\n",
    "\n",
    "    Returns\n",
    "    -------\n",
    "    The blurring matrix \n",
    "    \"\"\"\n",
    "    ..."
   ]
  },
  {
   "cell_type": "code",
   "execution_count": null,
   "id": "43c476cf",
   "metadata": {
    "deletable": false,
    "editable": false
   },
   "outputs": [],
   "source": [
    "grader.check(\"q2p1\")"
   ]
  },
  {
   "cell_type": "markdown",
   "id": "af393d26-6c86-4ff0-b8fb-2f78fae94c57",
   "metadata": {
    "deletable": false,
    "editable": false
   },
   "source": [
    "<!-- BEGIN QUESTION -->\n",
    "\n",
    "2. What is the rank of $B$ ? \n",
    "\n",
    "Hint: \n",
    "- row-rank might be easier to consider\n",
    "- you might also need to add constraints on $s$ and $p$"
   ]
  },
  {
   "cell_type": "markdown",
   "id": "6ab66d62",
   "metadata": {},
   "source": [
    "_Type your answer here, replacing this text._"
   ]
  },
  {
   "cell_type": "markdown",
   "id": "67659a9b-5206-40da-a8ab-0f190884d901",
   "metadata": {
    "deletable": false,
    "editable": false
   },
   "source": [
    "<!-- END QUESTION -->\n",
    "\n",
    "## 2. Blurring the image\n",
    "\n",
    "We now have our blurring matrix ready, let us use it to blur the `camera` image.\n",
    "As $B$ is designed to operate on vectors, we will need two steps to blur the image\n",
    "- apply $B$ on each column of the input image\n",
    "- apply $B$ on each row of the column-blurred image computed above"
   ]
  },
  {
   "cell_type": "markdown",
   "id": "596b49e7-438a-42c6-b5e6-5ea1a7f338f2",
   "metadata": {
    "deletable": false,
    "editable": false
   },
   "source": [
    "3. Implement a function that blurs an image using the matrix defined in the previous question"
   ]
  },
  {
   "cell_type": "code",
   "execution_count": null,
   "id": "0a8714b7-1dfa-4aa9-b09a-a5a9caa317bc",
   "metadata": {
    "tags": []
   },
   "outputs": [],
   "source": [
    "def blur_image(img, B):\n",
    "    \"\"\"\n",
    "    Blurs the input image using the blur matrix\n",
    "\n",
    "    Parameters\n",
    "    ----------\n",
    "    img : input image\n",
    "    B : blur matrix\n",
    "\n",
    "    Returns\n",
    "    -------\n",
    "    The blurred image \n",
    "    \"\"\"\n",
    "    ..."
   ]
  },
  {
   "cell_type": "code",
   "execution_count": null,
   "id": "f4275924",
   "metadata": {
    "deletable": false,
    "editable": false
   },
   "outputs": [],
   "source": [
    "grader.check(\"q2p3\")"
   ]
  },
  {
   "cell_type": "code",
   "execution_count": null,
   "id": "c167c207-66da-41a7-b536-5fc4577420e3",
   "metadata": {
    "tags": []
   },
   "outputs": [],
   "source": [
    "# build the blur matrix\n",
    "B = blur_matrix(512, 3, 2)"
   ]
  },
  {
   "cell_type": "code",
   "execution_count": null,
   "id": "42231cfd-b223-4f90-97c5-dec703aee5af",
   "metadata": {
    "tags": []
   },
   "outputs": [],
   "source": [
    "# Blur on rows\n",
    "camera_blurred = blur_image(camera, B)"
   ]
  },
  {
   "cell_type": "code",
   "execution_count": null,
   "id": "78aa4a09-ff28-4e21-83f9-2b14c6d6ad83",
   "metadata": {
    "tags": []
   },
   "outputs": [],
   "source": [
    "plt.imshow(camera_blurred, cmap='gray') # check the result"
   ]
  },
  {
   "cell_type": "code",
   "execution_count": null,
   "id": "492b6b43-abb8-49a1-a8cd-4a34c9b1a4eb",
   "metadata": {
    "tags": []
   },
   "outputs": [],
   "source": [
    "# Display blurred and original side by side\n",
    "fig, ax = plt.subplots(nrows=1, ncols=2, figsize=(15, 7), dpi=80, sharey=True, sharex=True)\n",
    "ax[1].imshow(camera_blurred, cmap='gray')\n",
    "ax[0].imshow(camera, cmap='gray')"
   ]
  },
  {
   "cell_type": "markdown",
   "id": "1d64733c-35eb-440b-a572-60bbdfd446e5",
   "metadata": {},
   "source": [
    "## 3. Deblurring\n",
    "Now everything is setup, we can proceed with the image restoration. "
   ]
  },
  {
   "cell_type": "markdown",
   "id": "c962b694-45b2-4c2b-b7f5-ee69ffd8e342",
   "metadata": {
    "deletable": false,
    "editable": false
   },
   "source": [
    "<!-- BEGIN QUESTION -->\n",
    "\n",
    "4.  Let us denote the result of a blur operation by $y=Bx$. Show that $x^* = B_R^{-1}y$, where $B_R^{-1}$ is the right-inverse of $B$, is an admissible value for $x$ to satisfy $y=Bx$."
   ]
  },
  {
   "cell_type": "markdown",
   "id": "14a3e87e",
   "metadata": {},
   "source": [
    "_Type your answer here, replacing this text._"
   ]
  },
  {
   "cell_type": "markdown",
   "id": "cf20cfff-0c77-4367-8b4e-92f41c41acad",
   "metadata": {
    "deletable": false,
    "editable": false
   },
   "source": [
    "<!-- END QUESTION -->\n",
    "\n",
    "<!-- BEGIN QUESTION -->\n",
    "\n",
    "5. Implement a function that computes the right inverse of the blur matrix, and uses it preform image restoration. Do not forget to consider row and columns blurring.\n",
    "\n",
    "You can use `np.linalg.inv` to perform the inverse of a matrix."
   ]
  },
  {
   "cell_type": "markdown",
   "id": "00d1b199",
   "metadata": {},
   "source": [
    "_Type your answer here, replacing this text._"
   ]
  },
  {
   "cell_type": "code",
   "execution_count": null,
   "id": "32426413-a8ea-46ac-ae3e-968f480ff150",
   "metadata": {
    "tags": []
   },
   "outputs": [],
   "source": [
    "def inverse_blur(blurred_img, B):\n",
    "    ..."
   ]
  },
  {
   "cell_type": "markdown",
   "id": "812c7443-3492-46d2-ad99-b2c83826163b",
   "metadata": {
    "deletable": false,
    "editable": false
   },
   "source": [
    "<!-- END QUESTION -->\n",
    "\n",
    "Using this $x^*$, compute the reconstructed image from the blurred one (do not forget to apply it on the rows, then on the columns)"
   ]
  },
  {
   "cell_type": "code",
   "execution_count": null,
   "id": "f270a921-f7c3-40fd-a969-d37010ad2954",
   "metadata": {
    "tags": []
   },
   "outputs": [],
   "source": [
    "camera_unblur = inverse_blur(camera_blurred, B)"
   ]
  },
  {
   "cell_type": "code",
   "execution_count": null,
   "id": "75296a85-053c-407c-915f-b562ba9c8acd",
   "metadata": {
    "tags": []
   },
   "outputs": [],
   "source": [
    "plt.imshow(camera_unblur) # check the result"
   ]
  },
  {
   "cell_type": "code",
   "execution_count": null,
   "id": "0dfd3731-b40a-4425-b78d-e0b65590c9f3",
   "metadata": {
    "tags": []
   },
   "outputs": [],
   "source": [
    "# Let us compare the original image, the restored image and an upscaled version of the blurred image\n",
    "fig, ax = plt.subplots(nrows=1, ncols=3, figsize=(15, 7), dpi=80, sharey=True, sharex=True)\n",
    "ax[1].imshow(camera_unblur, cmap='gray')\n",
    "ax[0].imshow(camera, cmap='gray')\n",
    "ax[2].imshow(skimage.transform.resize(camera_blurred, (512,512)), cmap='gray')"
   ]
  },
  {
   "cell_type": "markdown",
   "id": "ca9e1169-772a-402a-be66-8fd166826e54",
   "metadata": {
    "deletable": false,
    "editable": false
   },
   "source": [
    "<!-- BEGIN QUESTION -->\n",
    "\n",
    "6. Evaluate the performance of the restoration method. What are its limitations for a real-world usage ? Check that the computed solution is valid by blurring the restored image."
   ]
  },
  {
   "cell_type": "markdown",
   "id": "4325fc07",
   "metadata": {},
   "source": [
    "_Type your answer here, replacing this text._"
   ]
  },
  {
   "cell_type": "code",
   "execution_count": null,
   "id": "3658f662-3832-4098-84f4-5d618b95fd02",
   "metadata": {
    "tags": []
   },
   "outputs": [],
   "source": [
    "..."
   ]
  },
  {
   "cell_type": "markdown",
   "id": "9ac5e3fb",
   "metadata": {
    "deletable": false,
    "editable": false
   },
   "source": [
    "<!-- END QUESTION -->\n",
    "\n"
   ]
  },
  {
   "cell_type": "markdown",
   "id": "100bfdb9",
   "metadata": {
    "deletable": false,
    "editable": false
   },
   "source": [
    "## Submission\n",
    "\n",
    "Make sure you have run all cells in your notebook in order before running the cell below, so that all images/graphs appear in the output. The cell below will generate a zip file for you to submit. **Please save before exporting!**"
   ]
  },
  {
   "cell_type": "code",
   "execution_count": null,
   "id": "df4f0516",
   "metadata": {
    "deletable": false,
    "editable": false
   },
   "outputs": [],
   "source": [
    "# Save your notebook first, then run this cell to export your submission.\n",
    "grader.export(pdf=False, run_tests=True)"
   ]
  },
  {
   "cell_type": "markdown",
   "id": "df5eed33",
   "metadata": {},
   "source": [
    " "
   ]
  }
 ],
 "metadata": {
  "kernelspec": {
   "display_name": "Python 3 (ipykernel)",
   "language": "python",
   "name": "python3"
  },
  "language_info": {
   "codemirror_mode": {
    "name": "ipython",
    "version": 3
   },
   "file_extension": ".py",
   "mimetype": "text/x-python",
   "name": "python",
   "nbconvert_exporter": "python",
   "pygments_lexer": "ipython3",
   "version": "3.10.13"
  },
  "otter": {
   "OK_FORMAT": true,
   "tests": {
    "q2p1": {
     "name": "q2p1",
     "points": null,
     "suites": [
      {
       "cases": [
        {
         "code": ">>> B1 = np.array([[0.2, 0.2, 0.2, 0.0, 0.0, 0.0, 0.0, 0.0], [0.2, 0.2, 0.2, 0.2, 0.0, 0.0, 0.0, 0.0], [0.2, 0.2, 0.2, 0.2, 0.2, 0.0, 0.0, 0.0], [0.0, 0.2, 0.2, 0.2, 0.2, 0.2, 0.0, 0.0], [0.0, 0.0, 0.2, 0.2, 0.2, 0.2, 0.2, 0.0], [0.0, 0.0, 0.0, 0.2, 0.2, 0.2, 0.2, 0.2], [0.0, 0.0, 0.0, 0.0, 0.2, 0.2, 0.2, 0.2], [0.0, 0.0, 0.0, 0.0, 0.0, 0.2, 0.2, 0.2]])\n>>> np.testing.assert_array_almost_equal(B1, blur_matrix(8, 2, 1))\n>>> B2 = np.array([[0.2, 0.2, 0.2, 0.0, 0.0, 0.0, 0.0, 0.0], [0.0, 0.0, 0.2, 0.2, 0.2, 0.2, 0.2, 0.0]])\n>>> np.testing.assert_array_almost_equal(B2, blur_matrix(8, 2, 4))\n",
         "failure_message": "Check your implementation",
         "hidden": false,
         "locked": false,
         "success_message": "Good, your implementation returns correct results"
        }
       ],
       "scored": true,
       "setup": "",
       "teardown": "",
       "type": "doctest"
      }
     ]
    },
    "q2p3": {
     "name": "q2p3",
     "points": null,
     "suites": [
      {
       "cases": [
        {
         "code": ">>> blur_img_test = np.array([[0.12, 0.12, 0.12, 0.08, 0.04, 0.0, 0.0, 0.0], [0.12, 0.16, 0.16, 0.12, 0.08, 0.04, 0.0, 0.0], [0.12, 0.16, 0.2, 0.16, 0.12, 0.08, 0.04, 0.0], [0.08, 0.12, 0.16, 0.2, 0.16, 0.12, 0.08, 0.04], [0.04, 0.08, 0.12, 0.16, 0.2, 0.16, 0.12, 0.08], [0.0, 0.04, 0.08, 0.12, 0.16, 0.2, 0.16, 0.12], [0.0, 0.0, 0.04, 0.08, 0.12, 0.16, 0.16, 0.12], [0.0, 0.0, 0.0, 0.04, 0.08, 0.12, 0.12, 0.12]])\n>>> np.testing.assert_array_almost_equal(blur_img_test, blur_image(np.eye(8), blur_matrix(8, 2, 1)))\n>>> blur_img_test2 = np.array([[0.12, 0.04], [0.04, 0.2]])\n>>> np.testing.assert_array_almost_equal(blur_img_test2, blur_image(np.eye(8), blur_matrix(8, 2, 4)))\n",
         "failure_message": "Check your implementation",
         "hidden": false,
         "locked": false,
         "success_message": "Good, your implementation returns correct results"
        }
       ],
       "scored": true,
       "setup": "",
       "teardown": "",
       "type": "doctest"
      }
     ]
    }
   }
  }
 },
 "nbformat": 4,
 "nbformat_minor": 5
}
